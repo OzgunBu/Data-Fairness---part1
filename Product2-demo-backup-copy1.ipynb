{
 "cells": [
  {
   "cell_type": "code",
   "execution_count": 1,
   "metadata": {},
   "outputs": [
    {
     "name": "stderr",
     "output_type": "stream",
     "text": [
      "Using TensorFlow backend.\n"
     ]
    },
    {
     "name": "stdout",
     "output_type": "stream",
     "text": [
      "sklearn: 0.19.1\n",
      "pandas: 0.23.0\n",
      "kerads: 2.1.6\n"
     ]
    }
   ],
   "source": [
    "# HIDE\n",
    "import pandas as pd\n",
    "import numpy as np\n",
    "np.random.seed(7)\n",
    "import matplotlib.pyplot as plt\n",
    "import seaborn as sns\n",
    "sns.set(style=\"white\", palette=\"muted\", color_codes=True, context=\"talk\")\n",
    "from IPython import display\n",
    "%matplotlib inline\n",
    "\n",
    "import sklearn as sk\n",
    "from sklearn.model_selection import train_test_split\n",
    "from sklearn.preprocessing import StandardScaler\n",
    "from sklearn.metrics import accuracy_score, roc_auc_score\n",
    "from sklearn.utils.class_weight import compute_class_weight\n",
    "\n",
    "import keras as ke\n",
    "import keras.backend as K\n",
    "from keras.layers import Input, Dense, Dropout\n",
    "from keras.models import Model\n",
    "from keras.models import load_model\n",
    "\n",
    "\n",
    "create_gif = False\n",
    "\n",
    "# model reconstruction from JSON:\n",
    "from keras.models import model_from_json\n",
    "\n",
    "print(f\"sklearn: {sk.__version__}\")\n",
    "print(f\"pandas: {pd.__version__}\")\n",
    "print(f\"kerads: {ke.__version__}\")\n",
    "\n",
    "\n",
    "import src.my_functions_product1 as myFC\n",
    "import matplotlib.pyplot as plt"
   ]
  },
  {
   "cell_type": "code",
   "execution_count": 2,
   "metadata": {},
   "outputs": [],
   "source": [
    "feature_path = 'Feature-Datasets/adult/'\n",
    "data_filename = 'adult.data'\n",
    "\n",
    "#feature_path = 'Feature-Datasets/bank/'\n",
    "#data_filename = 'bank.csv'"
   ]
  },
  {
   "cell_type": "markdown",
   "metadata": {},
   "source": [
    "## Input your architecture and trained model"
   ]
  },
  {
   "cell_type": "code",
   "execution_count": 3,
   "metadata": {},
   "outputs": [
    {
     "name": "stdout",
     "output_type": "stream",
     "text": [
      "Enter text filename to read your json string for your main architecture file:user1_main_task_arch_json_string_file.txt\n",
      "Enter text filename to read your json string for your adv architecture file:user1_adv_task_arch_json_string_file.txt\n",
      "As for model, do you want to just upload the untrained architecture or the trained model? Please enter 'trained' or 'untrained'trained\n",
      "Trained or untrained : 'trained'\n",
      "-----------------------------------\n",
      "\n",
      "Enter your .h5 filename: user1_main_task_ori_trained_model.h5\n"
     ]
    }
   ],
   "source": [
    "user_main_json_text_file,user_adv_json_text_file,h5_filename,result_fname,train_or_untrain = myFC.user_model_arch_feature_input(feature_path,data_filename)"
   ]
  },
  {
   "cell_type": "code",
   "execution_count": null,
   "metadata": {},
   "outputs": [],
   "source": [
    "#user1_main_task_arch_json_string_file.txt\n",
    "#user1_adv_task_arch_json_string_file.txt\n",
    "#user1_main_task_ori_trained_model.h5"
   ]
  },
  {
   "cell_type": "markdown",
   "metadata": {},
   "source": [
    "## Reading the json files for main task and adversary"
   ]
  },
  {
   "cell_type": "code",
   "execution_count": 4,
   "metadata": {},
   "outputs": [],
   "source": [
    "main_task_arch_json_string = myFC.read_txt_file_to_string(user_main_json_text_file)\n",
    "adv_task_arch_json_string = myFC.read_txt_file_to_string(user_adv_json_text_file)"
   ]
  },
  {
   "cell_type": "markdown",
   "metadata": {},
   "source": [
    "## Feature Reading"
   ]
  },
  {
   "cell_type": "code",
   "execution_count": 5,
   "metadata": {},
   "outputs": [],
   "source": [
    "X_train, Z_train, y_train = myFC.feature_file_reading(feature_path,'train')\n",
    "X_test, Z_test, y_test = myFC.feature_file_reading(feature_path,'test')"
   ]
  },
  {
   "cell_type": "markdown",
   "metadata": {},
   "source": [
    "## Model and compile only main task: check prediction results"
   ]
  },
  {
   "cell_type": "code",
   "execution_count": 6,
   "metadata": {},
   "outputs": [
    {
     "name": "stdout",
     "output_type": "stream",
     "text": [
      "Accuracy: 85.20\n"
     ]
    }
   ],
   "source": [
    "save_the_weights = (train_or_untrain == 'untrained')\n",
    "main_task_accuracy, p_rule_for_Y1, y_pred = myFC.pre_train_main_task(main_task_arch_json_string,X_train, y_train,X_test,y_test,Z_test,save_the_weights=save_the_weights,h5_file_name=h5_filename)"
   ]
  },
  {
   "cell_type": "markdown",
   "metadata": {},
   "source": [
    "## Combining the main task arch with the adversarial arch"
   ]
  },
  {
   "cell_type": "markdown",
   "metadata": {},
   "source": [
    "### Train using pre-trained weights of main model"
   ]
  },
  {
   "cell_type": "code",
   "execution_count": 7,
   "metadata": {},
   "outputs": [
    {
     "name": "stdout",
     "output_type": "stream",
     "text": [
      "tradeoff_lambda =  0\n",
      "Accuracy: 85.39\n",
      "Accuracy: 85.35\n",
      "tradeoff_lambda =  1\n",
      "Accuracy: 85.39\n",
      "Accuracy: 85.28\n",
      "tradeoff_lambda =  2\n",
      "Accuracy: 85.39\n",
      "Accuracy: 84.80\n",
      "tradeoff_lambda =  3\n",
      "Accuracy: 85.39\n",
      "Accuracy: 84.39\n",
      "tradeoff_lambda =  4\n",
      "Accuracy: 85.39\n",
      "Accuracy: 84.12\n",
      "tradeoff_lambda =  5\n",
      "Accuracy: 85.39\n",
      "Accuracy: 83.96\n",
      "tradeoff_lambda =  6\n",
      "Accuracy: 85.39\n",
      "Accuracy: 83.60\n",
      "tradeoff_lambda =  7\n",
      "Accuracy: 85.39\n",
      "Accuracy: 83.67\n",
      "tradeoff_lambda =  8\n",
      "Accuracy: 85.39\n",
      "Accuracy: 83.51\n",
      "tradeoff_lambda =  9\n",
      "Accuracy: 85.39\n",
      "Accuracy: 83.15\n",
      "tradeoff_lambda =  10\n",
      "Accuracy: 85.39\n",
      "Accuracy: 83.54\n"
     ]
    }
   ],
   "source": [
    "tradeoff_lambda_v = [0,1,2,3,4,5,6,7,8,9,10]  \n",
    "pre_load_flag = True\n",
    "main_task_trained_weight_file = h5_filename\n",
    "\n",
    "for tradeoff_lambda in tradeoff_lambda_v:\n",
    "    print('tradeoff_lambda = ', tradeoff_lambda)\n",
    "    # initialise FairClassifier\n",
    "    clf = myFC.FairClassifier(tradeoff_lambda=tradeoff_lambda,\n",
    "                     main_task_arch_json_string=main_task_arch_json_string,\n",
    "                     adv_task_arch_json_string=adv_task_arch_json_string,\n",
    "                     pre_load_flag=pre_load_flag,main_task_trained_weight_file=main_task_trained_weight_file)\n",
    "    \n",
    "    # pre-train both adverserial and classifier networks\n",
    "    clf.pretrain(X_train, y_train, Z_train, verbose=0, epochs=5,pre_load_flag=pre_load_flag,main_task_trained_weight_file=main_task_trained_weight_file)\n",
    "    before_main_task_accuracy, before_p_rule_for_Y1,before_y_pred = myFC.bias_accuracy_performance(X_test,y_test,Z_test,clf)\n",
    "    \n",
    "    # adverserial train on train set and validate on test set\n",
    "    clf.fit(X_train, y_train, Z_train, \n",
    "            validation_data=(X_test, y_test, Z_test),\n",
    "            T_iter=165, save_figs=create_gif)\n",
    "    after_main_task_accuracy, after_p_rule_for_Y1,after_y_pred = myFC.bias_accuracy_performance(X_test,y_test,Z_test,clf)\n",
    "    \n",
    "    \n",
    "    result_fname_y_pred_before_after,result_fname_acc_p_before_after = myFC.saving_performance_result(before_main_task_accuracy, before_p_rule_for_Y1,before_y_pred, after_main_task_accuracy, after_p_rule_for_Y1,after_y_pred,tradeoff_lambda,result_fname)\n"
   ]
  },
  {
   "cell_type": "markdown",
   "metadata": {},
   "source": [
    "## Reading the result files"
   ]
  },
  {
   "cell_type": "markdown",
   "metadata": {},
   "source": [
    "### Accuracy & p-score trade-off curves"
   ]
  },
  {
   "cell_type": "code",
   "execution_count": 8,
   "metadata": {},
   "outputs": [],
   "source": [
    "tradeoff_lambda_v = [0,1,2,3,4,5,6,7,8,9,10]  \n",
    "Bacc_Bp_Aacc_Ap_results = np.zeros([len(tradeoff_lambda_v),4])\n",
    "\n",
    "for item in range(len(tradeoff_lambda_v)):\n",
    "    \n",
    "    tradeoff_lambda = tradeoff_lambda_v[item]\n",
    "    result_fname_acc_p_before_after = result_fname +'Result_acc_p_BA_' + 'L'+ str(tradeoff_lambda)+'.txt'\n",
    "    Bacc_Bp_Aacc_Ap = np.loadtxt(result_fname_acc_p_before_after, delimiter=',')\n",
    "    Bacc_Bp_Aacc_Ap_results[item, :] = Bacc_Bp_Aacc_Ap"
   ]
  },
  {
   "cell_type": "code",
   "execution_count": 9,
   "metadata": {},
   "outputs": [
    {
     "data": {
      "text/plain": [
       "Text(0.5,1,'Trade off')"
      ]
     },
     "execution_count": 9,
     "metadata": {},
     "output_type": "execute_result"
    },
    {
     "data": {
      "image/png": "[encoded data removed]",
      "text/plain": [
       "<Figure size 432x288 with 1 Axes>"
      ]
     },
     "metadata": {},
     "output_type": "display_data"
    }
   ],
   "source": [
    "plt.plot(Bacc_Bp_Aacc_Ap_results[:,3], 100*Bacc_Bp_Aacc_Ap_results[:,2])\n",
    "plt.xlabel('p-score')\n",
    "plt.ylabel('accuracy')\n",
    "plt.title('Trade off')"
   ]
  },
  {
   "cell_type": "markdown",
   "metadata": {},
   "source": [
    "### y_pred distribution curves"
   ]
  },
  {
   "cell_type": "code",
   "execution_count": 10,
   "metadata": {},
   "outputs": [],
   "source": [
    "result_fname_y_pred_before_after = result_fname + 'Result_y_pred_'+'L' + str(tradeoff_lambda) +'.txt'\n",
    "BA_y_pred = np.loadtxt(result_fname_y_pred_before_after, delimiter=',')"
   ]
  },
  {
   "cell_type": "markdown",
   "metadata": {},
   "source": [
    "#### Before the de-biaser"
   ]
  },
  {
   "cell_type": "code",
   "execution_count": 11,
   "metadata": {},
   "outputs": [
    {
     "data": {
      "image/png": "[encoded data removed]",
      "text/plain": [
       "<Figure size 432x288 with 1 Axes>"
      ]
     },
     "metadata": {},
     "output_type": "display_data"
    }
   ],
   "source": [
    "ax = sns.distplot(BA_y_pred[Z_test == 0,0], hist=False, \n",
    "                  kde_kws={'shade': True,},\n",
    "                  label='{}'.format('0'))\n",
    "\n",
    "ax = sns.distplot(BA_y_pred[Z_test == 1,0], hist=False, \n",
    "                  kde_kws={'shade': True,},\n",
    "                  label='{}'.format('1'))"
   ]
  },
  {
   "cell_type": "markdown",
   "metadata": {},
   "source": [
    "#### After the de-biaser"
   ]
  },
  {
   "cell_type": "code",
   "execution_count": 12,
   "metadata": {},
   "outputs": [
    {
     "data": {
      "image/png": "[encoded data removed]",
      "text/plain": [
       "<Figure size 432x288 with 1 Axes>"
      ]
     },
     "metadata": {},
     "output_type": "display_data"
    }
   ],
   "source": [
    "ax = sns.distplot(BA_y_pred[Z_test == 0,1], hist=False, \n",
    "                  kde_kws={'shade': True,},\n",
    "                  label='{}'.format('0'))\n",
    "\n",
    "ax = sns.distplot(BA_y_pred[Z_test == 1,1], hist=False, \n",
    "                  kde_kws={'shade': True,},\n",
    "                  label='{}'.format('1'))"
   ]
  },
  {
   "cell_type": "code",
   "execution_count": null,
   "metadata": {},
   "outputs": [],
   "source": []
  }
 ],
 "metadata": {
  "kernelspec": {
   "display_name": "Python 3",
   "language": "python",
   "name": "python3"
  },
  "language_info": {
   "codemirror_mode": {
    "name": "ipython",
    "version": 3
   },
   "file_extension": ".py",
   "mimetype": "text/x-python",
   "name": "python",
   "nbconvert_exporter": "python",
   "pygments_lexer": "ipython3",
   "version": "3.6.5"
  }
 },
 "nbformat": 4,
 "nbformat_minor": 2
}
